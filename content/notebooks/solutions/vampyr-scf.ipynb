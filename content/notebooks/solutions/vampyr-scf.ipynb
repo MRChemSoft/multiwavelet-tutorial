{
 "cells": [
  {
   "cell_type": "markdown",
   "id": "b1514b09",
   "metadata": {},
   "source": [
    "# V1: SCF optimization with VAMPyR"
   ]
  },
  {
   "cell_type": "markdown",
   "id": "cd876e45",
   "metadata": {},
   "source": [
    "## Hydrogen atom\n",
    "\n",
    "We intend to solve the Schrödinger equation for the Hydrogen atom\n",
    "\n",
    "\\begin{equation*}\n",
    "  \\left[\\hat{T} + \\hat{V}\\right]\\phi = E\\phi\n",
    "\\end{equation*}\n",
    "\n",
    "where the potential operator contains only the nuclear attraction\n",
    "\n",
    "\\begin{equation*}\n",
    "  \\hat{V}(r) = \\frac{-Z}{|R-r|}\n",
    "\\end{equation*}\n",
    "\n",
    "where $Z=1$ and $R=(0,0,0)$ are the nuclear charge and position, respectively."
   ]
  },
  {
   "cell_type": "markdown",
   "id": "2fd9594b",
   "metadata": {},
   "source": [
    "### Solution using multiwavelets\n",
    "In order to solve this equation using multiwavelets we reformulate it in an integral form:\n",
    "\n",
    "\\begin{equation}\n",
    "  \\phi = -2\\hat{G}_{\\mu}\\hat{V}\\phi\n",
    "\\end{equation}\n",
    "\n",
    "and iterate until convergence. $\\hat{G}_\\mu$ is the Bound-State Helmholtz (BSH) integral operator, whose kernel is defined as\n",
    "\n",
    "\\begin{equation}\n",
    "  G_\\mu(r - r') = \\frac{\\exp(-\\mu |r - r'|)}{4\\pi |r - r'|}\n",
    "\\end{equation}\n",
    "\n",
    "and $\\mu=\\sqrt{-2E}$ takes the place of the energy in the original Schrödinger equation. For the Hydrogen atom this energy is known (E=-0.5 a.u.) so we can use the \"exact\" BSH operator when solving for the wavefunction, but in general the energy will have to be computed for each iteration and the BSH operator re-initialized with the updated $\\mu$ parameter. For simple systems with a handful of electrons, the straightforward power iteration of the BSH equation is sufficient to achieve convergence, but more complicated molecular systems require additional acceleration techniques (not discussed further)."
   ]
  },
  {
   "cell_type": "markdown",
   "id": "d6fd6f0c-3abc-4504-a1b5-bc869343f806",
   "metadata": {},
   "source": [
    "### Implementation in VAMPyR\n",
    "\n",
    "What we need for this exercise is:\n",
    "\n",
    "1. Define a suitable Multi-Resolution Analysis (MRA) for the problem\n",
    "2. Make analytic nuclear potential and project onto the MRA\n",
    "3. Make analytic initial guess for the orbital and project onto the MRA\n",
    "4. Create a Helmholtz operator $\\hat{G}$ using the exact value for the Hydrogen atom ($\\mu=\\sqrt{-2E}$, $E=-0.5 a.u.$)\n",
    "5. Compute new orbital through application of the Helmholtz operator\n",
    "$\\tilde{\\phi}^{n+1} = -2\\hat{G}\\left[\\hat{V}\\phi^n\\right]$\n",
    "6. Check for convergence by computing the norm of the orbital update $\\Delta\\phi^n = \\tilde{\\phi}^{n+1} - \\phi^n$\n",
    "7. Normalize the orbital $\\phi^{n+1} = \\tilde{\\phi}^{n+1}/||\\tilde{\\phi}^{n+1}||$\n",
    "8. Update orbital $\\phi^{n} \\leftarrow \\phi^{n+1}$ for next iteration\n",
    "9. Repeat steps 5-8 until your orbital has converged"
   ]
  },
  {
   "cell_type": "markdown",
   "id": "5c6b378e",
   "metadata": {},
   "source": [
    "## Solution\n",
    "\n",
    "Here we put everything together in a single cell for convenience."
   ]
  },
  {
   "cell_type": "code",
   "execution_count": null,
   "id": "570a1e96-31f5-4591-b4d0-e920f26497b6",
   "metadata": {},
   "outputs": [],
   "source": [
    "from vampyr import vampyr3d as vp\n",
    "import numpy as np\n",
    "import matplotlib.pyplot as plt\n",
    "\n",
    "# Prepare simple plotting function for visualizations\n",
    "def line_plot(f, x_min, x_max):\n",
    "    # Evenly spaced points along the x-axis\n",
    "    r_x = np.linspace(x_min, x_max, 1000)\n",
    "    data = [f([x, 0.0, 0.0]) for x in r_x]\n",
    "    plt.plot(r_x, data)\n",
    "    return plt\n",
    "\n",
    "# Analytic nuclear potential\n",
    "def f_nuc(r):\n",
    "    Z = 1.0\n",
    "    R = np.sqrt(r[0]*r[0] + r[1]*r[1] + r[2]*r[2])\n",
    "    return -Z / R\n",
    "\n",
    "# Analytic guess for solution\n",
    "def f_phi(r):\n",
    "    R2 = r[0]*r[0] + r[1]*r[1] + r[2]*r[2]\n",
    "    return np.exp(-R2)\n",
    "\n",
    "# Global parameters\n",
    "k = 5                        # Polynomial order\n",
    "L = [-20,20]                 # Simulation box size\n",
    "epsilon = 1.0e-3             # Relative precision\n",
    "\n",
    "# Define MRA and multiwavelet projector\n",
    "MRA = vp.MultiResolutionAnalysis(order=k, box=L)\n",
    "P_mra = vp.ScalingProjector(mra=MRA, prec=epsilon)\n",
    "\n",
    "# Project analytic nuclear potential\n",
    "V_nuc = P_mra(f_nuc)\n",
    "\n",
    "# Initial guess for the wavefunction\n",
    "phi_n = P_mra(f_phi)\n",
    "phi_n.normalize()\n",
    "\n",
    "# Prepare Helmholtz operator using exact energy\n",
    "E = -0.5\n",
    "mu = np.sqrt(-2*E)\n",
    "G = vp.HelmholtzOperator(mra=MRA, exp=mu, prec=epsilon)\n",
    "    \n",
    "# Minimization loop\n",
    "i = 0\n",
    "thrs = 1.0e-3\n",
    "update = 1.0\n",
    "while (update > thrs):\n",
    "    # Apply Helmholtz operator\n",
    "    phi_np1 = -2*G(V_nuc * phi_n)\n",
    "    \n",
    "    # Compute norms for convergence check\n",
    "    norm = phi_np1.norm()\n",
    "    update = (phi_np1 - phi_n).norm()\n",
    "    \n",
    "    # Prepare for next iteration\n",
    "    phi_n = phi_np1.normalize()\n",
    "    \n",
    "    # Plot the current wavefunction\n",
    "    plt = line_plot(phi_n, -1.0, 1.0)\n",
    "    \n",
    "    # Print the current convergence status\n",
    "    print(\"iteration: {}    Norm: {}   Update: {}\".format(i, norm, update))\n",
    "    i += 1\n",
    "\n",
    "# Show the wavefunction plots in the same figure\n",
    "plt.show()"
   ]
  }
 ],
 "metadata": {
  "kernelspec": {
   "display_name": "Python 3 (ipykernel)",
   "language": "python",
   "name": "python3"
  },
  "language_info": {
   "codemirror_mode": {
    "name": "ipython",
    "version": 3
   },
   "file_extension": ".py",
   "mimetype": "text/x-python",
   "name": "python",
   "nbconvert_exporter": "python",
   "pygments_lexer": "ipython3",
   "version": "3.10.11"
  }
 },
 "nbformat": 4,
 "nbformat_minor": 5
}
