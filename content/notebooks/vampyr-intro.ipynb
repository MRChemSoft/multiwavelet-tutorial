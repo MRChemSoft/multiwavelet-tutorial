{
 "cells": [
  {
   "cell_type": "markdown",
   "id": "c8752159-7c64-4101-a5f1-6626f2a87528",
   "metadata": {},
   "source": [
    "# V1: VAMPyR introduction"
   ]
  },
  {
   "cell_type": "markdown",
   "id": "b71d5534-05c6-4dd5-a723-767ec8fcefd5",
   "metadata": {},
   "source": [
    "\n",
    "## Prologue\n",
    "\n",
    "The VAMPyR package can be imported in the following way, along with any other useful Python package you want to use. Remember to choose the appropriate dimensionality in the vampyr package name."
   ]
  },
  {
   "cell_type": "code",
   "execution_count": null,
   "id": "2f489d1a-3175-4e7c-a160-0041ff790431",
   "metadata": {},
   "outputs": [],
   "source": [
    "from vampyr import vampyr3d as vp\n",
    "import matplotlib.pyplot as plt\n",
    "import numpy as np"
   ]
  },
  {
   "cell_type": "markdown",
   "id": "7ddb54ed-1bff-4753-a32d-a8bdbb35104f",
   "metadata": {},
   "source": [
    "Some documentation is available through the `help` function, e.g."
   ]
  },
  {
   "cell_type": "code",
   "execution_count": null,
   "id": "15169ce8-769b-4dc2-b821-10cf18323bc2",
   "metadata": {
    "tags": []
   },
   "outputs": [],
   "source": [
    "help(vp.ScalingProjector)"
   ]
  },
  {
   "cell_type": "markdown",
   "id": "4779ee0f",
   "metadata": {},
   "source": [
    "## MultiResolution Analysis (MRA)\n",
    "\n",
    "The MRA defines the computational domain and the polynomial basis. The domain needs to be either symmetric around the origin $[-L,L]^D$ or in the positive hyperoctant $[0,L]^D$."
   ]
  },
  {
   "cell_type": "code",
   "execution_count": null,
   "id": "3455bd20",
   "metadata": {},
   "outputs": [],
   "source": [
    "from vampyr import vampyr3d as vp\n",
    "import matplotlib.pyplot as plt\n",
    "import numpy as np\n",
    "\n",
    "k = 5              # Polynomial order 0 < k < 40\n",
    "L = 1              # Box size needs to be [-L,L] or [0,L]\n",
    "epsilon = 1.0e-3   # Precision parameter\n",
    "\n",
    "# Define MRA in the box [-L,L]^3\n",
    "MRA1 = vp.MultiResolutionAnalysis(box=[-L,L], order=k)\n",
    "print(MRA1)\n",
    "\n",
    "# Define MRA in the box [0,L]^3\n",
    "MRA2 = vp.MultiResolutionAnalysis(box=[0,L], order=k)\n",
    "print(MRA2)"
   ]
  },
  {
   "cell_type": "markdown",
   "id": "9c573970-55b2-41e9-8b15-a6f14f3a89ee",
   "metadata": {},
   "source": [
    "## Function projection\n",
    "\n",
    "In order to represent functions in the multiwavelet basis we define a `ScalingProjector` on the MRA. The projector can either be given a fixed uniform `scale` or an adaptive `prec` parameter."
   ]
  },
  {
   "cell_type": "markdown",
   "id": "930285ff",
   "metadata": {},
   "source": [
    "#### Example: Fixed scale projection 1D"
   ]
  },
  {
   "cell_type": "code",
   "execution_count": null,
   "id": "f900f803-07ab-4d5e-97a4-378def767abc",
   "metadata": {},
   "outputs": [],
   "source": [
    "from vampyr import vampyr1d as vp\n",
    "import matplotlib.pyplot as plt\n",
    "import numpy as np\n",
    "\n",
    "k = 3  # Polynomial order\n",
    "L = 1  # Box size [-L,L]\n",
    "n = 3  # Scale parameter for uniform projection 2^-n\n",
    "\n",
    "# Define fixed scale projector onto MRA\n",
    "MRA = vp.MultiResolutionAnalysis(box=[-L,L], order=k)\n",
    "P_n = vp.ScalingProjector(MRA, scale=n)\n",
    "\n",
    "# Define analytic function\n",
    "def f(r):\n",
    "    x = r[0] # r is a coordinate vector, even in 1D\n",
    "    return np.exp(-5*x**2)*np.cos(8*np.pi*x)\n",
    "\n",
    "# Project function onto MRA\n",
    "f_n = P_n(f)\n",
    "\n",
    "# Plot function in the interval x=[-L,L]\n",
    "r_x = np.linspace(-L, L, 1000)\n",
    "plt_ana = [f([x]) for x in r_x]\n",
    "plt_mra = [f_n([x]) for x in r_x]\n",
    "plt.plot(r_x, plt_ana, \"tab:blue\") # analytic function\n",
    "plt.plot(r_x, plt_mra, \"tab:red\")  # projected function\n",
    "plt.show()"
   ]
  },
  {
   "cell_type": "markdown",
   "id": "7eec041e",
   "metadata": {},
   "source": [
    "#### Example: Adaptive projection 3D"
   ]
  },
  {
   "cell_type": "code",
   "execution_count": null,
   "id": "e27855dd",
   "metadata": {},
   "outputs": [],
   "source": [
    "from vampyr import vampyr3d as vp\n",
    "import matplotlib.pyplot as plt\n",
    "import numpy as np\n",
    "\n",
    "k = 3               # Polynomial order\n",
    "L = 2               # Box size [0,L]\n",
    "epsilon = 1.0e-3    # Precision parameter\n",
    "\n",
    "# Define adaptive projector onto MRA\n",
    "MRA = vp.MultiResolutionAnalysis(box=[0,L], order=k)\n",
    "P_eps = vp.ScalingProjector(MRA, prec=epsilon)\n",
    "\n",
    "# Define analytic function\n",
    "def f(r):\n",
    "    R = np.sqrt(r[0]**2 + r[1]**2 + r[2]**2)\n",
    "    return np.exp(-R**2)*np.sin(4*np.pi*R)\n",
    "\n",
    "# Project function onto MRA\n",
    "f_eps = P_eps(f)\n",
    "\n",
    "# Plot function in the interval x=[0,L]\n",
    "r_x = np.linspace(0, L, 1000)\n",
    "plt_ana = [f([x, 0.0, 0.0]) for x in r_x]\n",
    "plt_mra = [f_eps([x, 0.0, 0.0]) for x in r_x]\n",
    "plt.plot(r_x, plt_ana, \"tab:blue\") # analytic function\n",
    "plt.plot(r_x, plt_mra, \"tab:red\")  # projected function\n",
    "plt.show()"
   ]
  },
  {
   "cell_type": "markdown",
   "id": "ff5cc043-205c-4bf8-8475-18097cddacf5",
   "metadata": {},
   "source": [
    "\n",
    "## Arithmethic operations\n",
    "\n",
    "Arithmethic in vampyr is mostly the same as in normal python. First we define two functions to be used in the following examples."
   ]
  },
  {
   "cell_type": "code",
   "execution_count": null,
   "id": "8ddce724",
   "metadata": {},
   "outputs": [],
   "source": [
    "from vampyr import vampyr1d as vp\n",
    "import matplotlib.pyplot as plt\n",
    "import numpy as np\n",
    "\n",
    "k = 5               # Polynomial order\n",
    "L = 4               # Box size [-L,L]\n",
    "epsilon = 1.0e-3    # Precision parameter\n",
    "\n",
    "# Prepare simple plotting function for visualizations\n",
    "def line_plot_1d(f, color):\n",
    "    r_x = np.linspace(-L, L, 1000)\n",
    "    plt_f = [f([x]) for x in r_x]\n",
    "    plt.plot(r_x, plt_f, color)\n",
    "    return plt\n",
    "\n",
    "# Define fixed scale projector onto MRA\n",
    "MRA = vp.MultiResolutionAnalysis(box=[-L,L], order=k)\n",
    "P_eps = vp.ScalingProjector(MRA, prec=epsilon)\n",
    "\n",
    "# Project analytic functions onto MRA\n",
    "f = P_eps(lambda r : np.exp(-(r[0] - 1.0)**2))\n",
    "g = P_eps(lambda r : np.exp(-(r[0] + 1.0)**2))\n",
    "\n",
    "# Plot functions\n",
    "plt = line_plot_1d(f, \"tab:blue\")\n",
    "plt = line_plot_1d(g, \"tab:red\")\n",
    "plt.show()"
   ]
  },
  {
   "cell_type": "markdown",
   "id": "78aa36fa",
   "metadata": {},
   "source": [
    "#### Example: scaling and normalization"
   ]
  },
  {
   "cell_type": "code",
   "execution_count": null,
   "id": "225b96ea",
   "metadata": {},
   "outputs": [],
   "source": [
    "f *= np.pi    # Scale f by factor pi\n",
    "g.normalize() # Normalize g\n",
    "\n",
    "# Plot functions\n",
    "plt = line_plot_1d(f, \"tab:blue\")\n",
    "plt = line_plot_1d(g, \"tab:red\")\n",
    "plt.show()"
   ]
  },
  {
   "cell_type": "markdown",
   "id": "5030850a",
   "metadata": {},
   "source": [
    "#### Example: addition and multiplication"
   ]
  },
  {
   "cell_type": "code",
   "execution_count": null,
   "id": "edb3eb11",
   "metadata": {},
   "outputs": [],
   "source": [
    "h1 = 0.5*f - 2*g  # linear combination\n",
    "h2 = f * g        # multiplication\n",
    "h3 = g**2         # power\n",
    "\n",
    "# Plot functions\n",
    "plt = line_plot_1d(h1, \"tab:blue\")\n",
    "plt = line_plot_1d(h2, \"tab:red\")\n",
    "plt = line_plot_1d(h3, \"tab:green\")\n",
    "plt.show()"
   ]
  },
  {
   "cell_type": "markdown",
   "id": "b6e0a99f",
   "metadata": {},
   "source": [
    "#### Example: norms, integrals and dot products"
   ]
  },
  {
   "cell_type": "code",
   "execution_count": null,
   "id": "b20532ee",
   "metadata": {},
   "outputs": [],
   "source": [
    "f_norm = f.norm()\n",
    "f_sqnorm = f.squaredNorm()\n",
    "f_integral = f.integrate()\n",
    "f2_integral = (f**2).integrate()\n",
    "f_dot_f = vp.dot(f,f)\n",
    "f_dot_g = vp.dot(f,g)\n",
    "\n",
    "print(\"Norm of f         : {}\".format(f_norm))\n",
    "print(\"Squared norm of f : {}\".format(f_sqnorm))\n",
    "print(\"Integral of f     : {}\".format(f_integral))\n",
    "print(\"Integral of f**2  : {}\".format(f2_integral))\n",
    "print(\"Dot product <f|f> : {}\".format(f_dot_f))\n",
    "print(\"Dot product <f|g> : {}\".format(f_dot_g))"
   ]
  },
  {
   "cell_type": "markdown",
   "id": "eb2a2637-db7a-4703-b262-317379bb7aa6",
   "metadata": {},
   "source": [
    "## Operators"
   ]
  },
  {
   "cell_type": "markdown",
   "id": "6050c8ed",
   "metadata": {},
   "source": [
    "#### Example: convolution operator"
   ]
  },
  {
   "cell_type": "code",
   "execution_count": null,
   "id": "8be3b111",
   "metadata": {},
   "outputs": [],
   "source": [
    "from vampyr import vampyr3d as vp\n",
    "import matplotlib.pyplot as plt\n",
    "import numpy as np\n",
    "\n",
    "k = 5               # Polynomial order\n",
    "L = 10              # Box size [-L,L]\n",
    "epsilon = 1.0e-3    # Precision parameter\n",
    "\n",
    "# Prepare simple plotting function for visualizations\n",
    "def line_plot_3d(f, color):\n",
    "    r_x = np.linspace(-L, L, 1000)\n",
    "    plt_f = [f([x, 0, 0]) for x in r_x]\n",
    "    plt.plot(r_x, plt_f, color)\n",
    "    return plt\n",
    "\n",
    "# Define fixed scale projector onto MRA\n",
    "MRA = vp.MultiResolutionAnalysis(box=[-L,L], order=k)\n",
    "P_eps = vp.ScalingProjector(MRA, prec=epsilon)\n",
    "\n",
    "# Project analytic functions onto MRA\n",
    "rho = P_eps(lambda r : np.exp(-(r[0]**2 + r[1]**2 + r[2]**2)))\n",
    "\n",
    "# Construct and apply Poisson operator\n",
    "poisson = vp.PoissonOperator(MRA, prec=epsilon)\n",
    "V = poisson(4*np.pi*rho)\n",
    "\n",
    "# Compute electrostatic energy\n",
    "E = vp.dot(V, rho)\n",
    "print(\"Electrostatic energy : {}\".format(E))\n",
    "\n",
    "# Plot functions\n",
    "plt = line_plot_3d(rho, \"tab:blue\")\n",
    "plt = line_plot_3d(V, \"tab:red\")\n",
    "plt.show()"
   ]
  },
  {
   "cell_type": "markdown",
   "id": "0b3a6b86",
   "metadata": {},
   "source": [
    "#### Example: derivative operator"
   ]
  },
  {
   "cell_type": "code",
   "execution_count": null,
   "id": "aca4ac18",
   "metadata": {},
   "outputs": [],
   "source": [
    "from vampyr import vampyr1d as vp\n",
    "import matplotlib.pyplot as plt\n",
    "import numpy as np\n",
    "\n",
    "k = 5               # Polynomial order\n",
    "L = 4              # Box size [-L,L]\n",
    "epsilon = 1.0e-3    # Precision parameter\n",
    "\n",
    "# Prepare simple plotting function for visualizations\n",
    "def line_plot_1d(f, color):\n",
    "    r_x = np.linspace(-L, L, 1000)\n",
    "    plt_f = [f([x]) for x in r_x]\n",
    "    plt.plot(r_x, plt_f, color)\n",
    "    return plt\n",
    "\n",
    "# Define fixed scale projector onto MRA\n",
    "MRA = vp.MultiResolutionAnalysis(box=[-L,L], order=k)\n",
    "P_eps = vp.ScalingProjector(MRA, prec=epsilon)\n",
    "\n",
    "# Project analytic functions onto MRA\n",
    "f = P_eps(lambda r : np.exp(-r[0]**2))\n",
    "\n",
    "# Construct and apply derivative operator. ABGV comes from the authors\n",
    "# of the paper (Alpert, Beylkin, Gines, Vozovoi) and a,b are the\n",
    "# boundary parameters from the same paper \n",
    "D = vp.ABGVDerivative(MRA, a=0.5, b=0.5)\n",
    "\n",
    "# Compute first and second derivative\n",
    "df = D(f)\n",
    "ddf = D(df)\n",
    "\n",
    "# Plot functions\n",
    "plt = line_plot_1d(f, \"tab:blue\")\n",
    "plt = line_plot_1d(df, \"tab:red\")\n",
    "plt = line_plot_1d(ddf, \"tab:green\")\n",
    "plt.show()"
   ]
  },
  {
   "cell_type": "code",
   "execution_count": null,
   "id": "bd8ba6b1",
   "metadata": {},
   "outputs": [],
   "source": []
  }
 ],
 "metadata": {
  "kernelspec": {
   "display_name": "Python 3 (ipykernel)",
   "language": "python",
   "name": "python3"
  },
  "language_info": {
   "codemirror_mode": {
    "name": "ipython",
    "version": 3
   },
   "file_extension": ".py",
   "mimetype": "text/x-python",
   "name": "python",
   "nbconvert_exporter": "python",
   "pygments_lexer": "ipython3",
   "version": "3.10.11"
  }
 },
 "nbformat": 4,
 "nbformat_minor": 5
}
