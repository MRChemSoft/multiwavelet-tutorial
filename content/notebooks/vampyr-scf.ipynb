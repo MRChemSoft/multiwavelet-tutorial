{
 "cells": [
  {
   "cell_type": "markdown",
   "id": "3afa5e12",
   "metadata": {},
   "source": [
    "# V1: SCF optimization with VAMPyR"
   ]
  },
  {
   "cell_type": "markdown",
   "id": "84c13248",
   "metadata": {},
   "source": [
    "## V1.1 Hydrogen atom\n",
    "\n",
    "We intend to solve the Schrödinger equation for the Hydrogen atom\n",
    "\n",
    "\\begin{equation*}\n",
    "  \\left[\\hat{T} + \\hat{V}\\right]\\phi = E\\phi\n",
    "\\end{equation*}\n",
    "\n",
    "where the potential operator contains only the nuclear attraction\n",
    "\n",
    "\\begin{equation*}\n",
    "  \\hat{V}(r) = \\frac{-Z}{|R-r|}\n",
    "\\end{equation*}\n",
    "\n",
    "where $Z=1$ and $R=(0,0,0)$ are the nuclear charge and position, respectively."
   ]
  },
  {
   "cell_type": "markdown",
   "id": "6e7c1480",
   "metadata": {},
   "source": [
    "### Solution using multiwavelets\n",
    "In order to solve this equation using multiwavelets we reformulate it in an integral form:\n",
    "\n",
    "\\begin{equation}\n",
    "  \\phi = -2\\hat{G}_{\\mu}\\hat{V}\\phi\n",
    "\\end{equation}\n",
    "\n",
    "and iterate until convergence. $\\hat{G}_\\mu$ is the Bound-State Helmholtz (BSH) integral operator, whose kernel is defined as\n",
    "\n",
    "\\begin{equation}\n",
    "  G_\\mu(r - r') = \\frac{\\exp(-\\mu |r - r'|)}{4\\pi |r - r'|}\n",
    "\\end{equation}\n",
    "\n",
    "and $\\mu=\\sqrt{-2E}$ takes the place of the energy in the original Schrödinger equation. For the Hydrogen atom this energy is known (E=-0.5 a.u.) so we can use the \"exact\" BSH operator when solving for the wavefunction, but in general the energy will have to be computed for each iteration and the BSH operator re-initialized with the updated $\\mu$ parameter. For simple systems with a handful of electrons, the straightforward power iteration of the BSH equation is sufficient to achieve convergence, but more complicated molecular systems require additional acceleration techniques (not discussed further)."
   ]
  },
  {
   "cell_type": "markdown",
   "id": "5681abe9",
   "metadata": {},
   "source": [
    "### Implementation in VAMPyR\n",
    "\n",
    "What we need for this exercise is:\n",
    "\n",
    "1. Define a suitable Multi-Resolution Analysis (MRA) for the problem\n",
    "2. Make analytic nuclear potential and project onto the MRA\n",
    "3. Make analytic initial guess for the orbital and project onto the MRA\n",
    "4. Create a Helmholtz operator $\\hat{G}$ using the exact value for the Hydrogen atom ($\\mu=\\sqrt{-2E}$, $E=-0.5 a.u.$)\n",
    "5. Compute new orbital through application of the Helmholtz operator\n",
    "$\\tilde{\\phi}^{n+1} = -2\\hat{G}\\left[\\hat{V}\\phi^n\\right]$\n",
    "6. Check for convergence by computing the norm of the orbital update $\\Delta\\phi^n = \\tilde{\\phi}^{n+1} - \\phi^n$\n",
    "7. Normalize the orbital $\\phi^{n+1} = \\tilde{\\phi}^{n+1}/||\\tilde{\\phi}^{n+1}||$\n",
    "8. Update orbital $\\phi^{n} \\leftarrow \\phi^{n+1}$ for next iteration\n",
    "9. Repeat steps 5-8 until your orbital has converged"
   ]
  },
  {
   "cell_type": "markdown",
   "id": "a531efa0",
   "metadata": {},
   "source": [
    "### Preparing the notebook\n",
    "\n",
    "First we load all necessary Python modules for this exercise, and define a helper function for plotting that will be used later."
   ]
  },
  {
   "cell_type": "code",
   "execution_count": null,
   "id": "93272084",
   "metadata": {},
   "outputs": [],
   "source": [
    "from vampyr import vampyr3d as vp\n",
    "import numpy as np\n",
    "import matplotlib.pyplot as plt\n",
    "\n",
    "# Prepare simple plotting function for visualizations\n",
    "def line_plot(f, x_min, x_max):\n",
    "    # Evenly spaced points along the x-axis\n",
    "    r_x = np.linspace(x_min, x_max, 1000)\n",
    "    data = [f([x, 0.0, 0.0]) for x in r_x]\n",
    "    plt.plot(r_x, data)\n",
    "    return plt"
   ]
  },
  {
   "cell_type": "markdown",
   "id": "8a14ed18",
   "metadata": {},
   "source": [
    "### Initializing the Multi-Resolution Analysis (MRA)\n",
    "\n",
    "\n",
    "We need to define a computational world that is large enough for the expected solution to vanish at the boundary. For the Hydrogen atom in atomic units, a cubic box of $\\pm 20$ bohrs in each dimension should be sufficient. Initially we choose a low precision of $\\epsilon = 10^{-3}$, but this can be increased later when we know that the algorithm is working. For this precision a suitable polynomial order is around $k=5$, but this should be increased gradually when the precision is increased."
   ]
  },
  {
   "cell_type": "code",
   "execution_count": null,
   "id": "8f6181c8",
   "metadata": {},
   "outputs": [],
   "source": [
    "# Global parameters\n",
    "k = 5                        # Polynomial order\n",
    "L = [-20,20]                 # Simulation box size\n",
    "epsilon = 1.0e-3             # Relative precision\n",
    "\n",
    "# Define MRA and multiwavelet projector\n",
    "print(\"FIXME: construct a MRA using polynomial order 'k' and box size 'L'\")\n",
    "# MRA = ...\n",
    "print(\"FIXME: construct a ScalingProjector 'P_mra' for the MRA with precision 'epsilon'\")\n",
    "# P_mra = ..."
   ]
  },
  {
   "cell_type": "markdown",
   "id": "abbf5352",
   "metadata": {},
   "source": [
    "### Nuclear potential\n",
    "\n",
    "By placing the nucleus at the origin, the nuclear potential for Hydrogen (Z=1) reduces to $\\hat{V}(r) = -1/|r|$. In order to make a numerical MW representation of this potential we must first define an analytic function that takes a position coordinate $r[3]$ and returns a scalar function value for that point. Once we have a Python function for this we can project it onto the MRA using the scaling projector. We can then plot the function to make sure it looks reasonable."
   ]
  },
  {
   "cell_type": "code",
   "execution_count": null,
   "id": "ca4b47ec",
   "metadata": {},
   "outputs": [],
   "source": [
    "# Analytic nuclear potential (the argument r is a 3D coordinate)\n",
    "def f_nuc(r):\n",
    "    Z = 1.0\n",
    "    R = np.sqrt(r[0]*r[0] + r[1]*r[1] + r[2]*r[2])\n",
    "    return -Z / R\n",
    "    \n",
    "# Project nuclear potential onto MRA\n",
    "print(\"FIXME: construct a MW representation 'V_nuc' of the analytic function 'f_nuc' using the 'P_mra' projector\")\n",
    "# V_nuc = ...\n",
    "\n",
    "# Uncomment the following to plot function between x=[-1.0, 1.0]\n",
    "# plt = line_plot(V_nuc, -1.0, 1.0)\n",
    "# plt.show()"
   ]
  },
  {
   "cell_type": "markdown",
   "id": "117fc4e4",
   "metadata": {},
   "source": [
    "### Initial guess for wavefunction\n",
    "\n",
    "In order to start the iteration process, we need an initial guess for the wavefunction solution. We choose a simple Gaussian function $\\phi^0(r) = e^{-r^2}$ centered at the origin, and project it in the same way as the nuclear potential above."
   ]
  },
  {
   "cell_type": "code",
   "execution_count": null,
   "id": "6dd463f2",
   "metadata": {},
   "outputs": [],
   "source": [
    "# Analytic initial guess (the argument r is a 3D coordinate)\n",
    "def f_phi(r):\n",
    "    print(\"FIXME: return the function value of the initial guess, e.g. exp(-r^2)\")\n",
    "    \n",
    "# Project initial guess onto MRA and normalize\n",
    "print(\"FIXME: construct a MW representation 'phi_n' of the analytic function 'f_phi' using the 'P_mra' projector\")\n",
    "print(\"FIXME: normalize the resulting orbital using 'phi_n.normalize()'\")\n",
    "# phi_n = ...\n",
    "\n",
    "\n",
    "# Uncomment the following to plot function between x=[-10.0, 10.0]\n",
    "# plt = line_plot(phi_n, -10.0, 10.0)\n",
    "# plt.show()"
   ]
  },
  {
   "cell_type": "markdown",
   "id": "cf58476e",
   "metadata": {},
   "source": [
    "### Bound-State Helmholtz operator\n",
    "\n",
    "The BSH operator is implemented in VAMPyR, and you can construct it using any real-valued $\\mu$, along with the appropriate MRA and precision $\\epsilon$. Since we know the exact energy for the Hydrogen atom, we can construct a single operator and use it throughout the iteration procedure."
   ]
  },
  {
   "cell_type": "code",
   "execution_count": null,
   "id": "05de9048",
   "metadata": {},
   "outputs": [],
   "source": [
    "# Prepare Helmholtz operator using exact energy\n",
    "E = -0.5\n",
    "mu = np.sqrt(-2*E)\n",
    "G = vp.HelmholtzOperator(MRA, exp=mu, prec=epsilon)"
   ]
  },
  {
   "cell_type": "markdown",
   "id": "e760295a",
   "metadata": {},
   "source": [
    "### Iterative solution of the Schrödinger equation\n",
    "\n",
    "We now have all the componenents needed for the power iteration that will optimize the wavefunction solution. In the loop we need to\n",
    "\n",
    "1. Assemble Helmholtz argument : $V_{nuc}*\\phi^n$\n",
    "2. Apply BSH operator : $\\tilde{\\phi}^{n+1} = -2 \\hat{G}\\left[V_{nuc}*\\phi^n\\right]$\n",
    "3. Compute norm of new orbital : $||\\tilde{\\phi}^{n+1}||$\n",
    "3. Compute norm of update : $||\\Delta\\tilde{\\phi}^n|| = ||\\tilde{\\phi}^{n+1} - \\phi^n||$\n",
    "4. Normalize wavefunction : $\\phi^{n+1} = \\tilde{\\phi}^{n+1}/||\\tilde{\\phi}^{n+1}||$\n",
    "5. Prepare for next iteration : $\\phi^n \\leftarrow \\phi^{n+1}$\n",
    "6. Repeat until : $||\\Delta\\tilde{\\phi}^n|| < \\epsilon_{thrs}$"
   ]
  },
  {
   "cell_type": "code",
   "execution_count": null,
   "id": "a22f45c9",
   "metadata": {},
   "outputs": [],
   "source": [
    "i = 0            # Iteration counter\n",
    "thrs = 1.0e-3    # Convergence threshold\n",
    "norm = 1.0       # Dummy norm\n",
    "update = 1.0     # Dummy update\n",
    "while (i < 1):\n",
    "    # Main optimization loop\n",
    "    print(\"FIXME: assemble Helmholtz argument\")\n",
    "    print(\"FIXME: apply BSH operator to obtain next iteration 'phi_np1'\")\n",
    "    print(\"FIXME: compute the norm of new orbital : norm = ||phi_np1||\")\n",
    "    print(\"FIXME: compute the norm of update : update = ||phi_np1 - phi_n||\")\n",
    "    print(\"FIXME: use the 'line_plot' function to visualize the orbitals\")\n",
    "    print(\"FIXME: switch to (update < thrs) convergence check once the body of the loop is working\")\n",
    "    \n",
    "    # Print the current convergence status\n",
    "    print(\"iteration: {}    Norm: {}   Update: {}\".format(i, norm, update))\n",
    "    i += 1"
   ]
  },
  {
   "cell_type": "markdown",
   "id": "b9ccfb99",
   "metadata": {},
   "source": [
    "## V1.2 Extension to Helium"
   ]
  },
  {
   "cell_type": "markdown",
   "id": "f1f01f65",
   "metadata": {},
   "source": [
    "A few things change when you go from Hydrogen to Helium:\n",
    "1. The energy is no longer known exactly, and thus will have to be computed from the wavefunction\n",
    "2. The Helmholtz operator which depends on the energy through $\\mu = \\sqrt{-2E}$ needs to be updated in every iteration\n",
    "3. The potential operator $V$ depends on the wavefunction and must be updated in every iteration"
   ]
  },
  {
   "cell_type": "markdown",
   "id": "c922d060",
   "metadata": {},
   "source": [
    "In this example we will use the Hartree-Fock model, which for a single-orbital system like Helium, reduces to the following potential operator:\n",
    "\\begin{align}\n",
    "  \\hat{V} &= \\hat{V}_{nuc} + 2\\hat{J} - \\hat{K}\\\\\n",
    "          &= \\hat{V}_{nuc} + \\hat{J}\n",
    "\\end{align}\n",
    "since $\\hat{K} = \\hat{J}$ for a doubly occupied single orbital."
   ]
  },
  {
   "cell_type": "markdown",
   "id": "c8ed018c",
   "metadata": {},
   "source": [
    "The Coulomb potential $\\hat{J}$ can be computed by application of the Poisson operator $P$:\n",
    "\\begin{equation}\n",
    "  \\hat{J}(r) = P\\left[4\\pi\\rho\\right]\n",
    "\\end{equation}\n",
    "Where $\\rho$ is the square of the orbital\n",
    "\\begin{equation}\n",
    "  \\rho = \\phi*\\phi\n",
    "\\end{equation}"
   ]
  },
  {
   "cell_type": "markdown",
   "id": "a2343a60",
   "metadata": {},
   "source": [
    "#### Pen and paper exercise:\n",
    "\n",
    "Use the fact that\n",
    "\\begin{equation}\n",
    "  \\tilde{\\phi}^{n+1} = -\\Big[\\hat{T} - E^n\\Big]^{-1} V^n\\phi^n \\end{equation}\n",
    "to show that\n",
    "\\begin{equation}\n",
    "  E^{n+1} = \\frac{\\langle\\tilde{\\phi}^{n+1}|\\hat{T} +\n",
    "            \\hat{V}^{n+1}|\\tilde{\\phi}^{n+1}\\rangle}\n",
    "            {||\\tilde{\\phi}^{n+1}||^2}\n",
    "\\end{equation}\n",
    "can be written as a pure update $\\Delta E^n$ involving only the potentials $\\hat{V}^{n+1}$, $\\hat{V}^n$ as well as the orbitals $\\tilde{\\phi}^{n+1}$ and $\\phi^n$\n",
    "\\begin{equation}\n",
    "  E^{n+1} = E^{n} + \\Delta E^n\n",
    "\\end{equation}\n"
   ]
  },
  {
   "cell_type": "markdown",
   "id": "afe11855",
   "metadata": {},
   "source": [
    "#### Implementation exercise:\n",
    "1. Make a nuclear potential function `f_nuc(r)` for the Helium atom\n",
    "2. Make an initial guess for the orbital as a python function `f_phi(r)`\n",
    "3. Project both nuclear potential ($V_{nuc}$) and orbital ($\\phi_n$) to the MW basis using a `vp.ScalingProjector` with precision $\\epsilon=10^{-3}$\n",
    "4. Create a Helmholtz operator $G^n$ with $\\mu^n = \\sqrt{-2E^n}$ using the current energy (start with some reasonable guess)\n",
    "5. Compute total potential $V^n = V_{nuc} + J^n$, where the Coulomb potential is computed using the `vp.PoissonOperator` on the current squared orbital $J = P\\left[4\\pi\\phi^2\\right]$\n",
    "6. Compute new orbital through application of the Helmholtz operator on $\\tilde{\\phi}^{n+1} = -2\\hat{G}^nV^n\\phi^n$\n",
    "7. Compute the update to the orbital energy ($\\Delta E^n$) using the expression from the pen and paper exercise\n",
    "8. Compute the norm of the orbital update $||\\Delta\\tilde{\\phi}^n|| = ||\\tilde{\\phi}^{n+1} - \\phi^n||$\n",
    "9. Normalize the orbital $\\phi^{n+1} = \\tilde{\\phi}^{n+1}/||\\tilde{\\phi}^{n+1}||$\n",
    "10. Repeat steps 4-9 until your orbital has converged"
   ]
  },
  {
   "cell_type": "markdown",
   "id": "3e62f2df",
   "metadata": {},
   "source": [
    "You should expect the orbital energy to converge towards\n",
    "$E_n \\approx -0.918$."
   ]
  },
  {
   "cell_type": "markdown",
   "id": "a40be9ff",
   "metadata": {},
   "source": [
    "#### Bonus exercise:\n",
    "The total energy can be computed after convergence as\n",
    "$E_{tot} = 2E_n - \\langle\\rho|J\\rangle$, should be around $E_{tot} \\approx -2.86$."
   ]
  },
  {
   "cell_type": "code",
   "execution_count": null,
   "id": "fefb02fe-ef02-442e-afa4-d5cbff7095b9",
   "metadata": {},
   "outputs": [],
   "source": []
  }
 ],
 "metadata": {
  "kernelspec": {
   "display_name": "Python 3 (ipykernel)",
   "language": "python",
   "name": "python3"
  },
  "language_info": {
   "codemirror_mode": {
    "name": "ipython",
    "version": 3
   },
   "file_extension": ".py",
   "mimetype": "text/x-python",
   "name": "python",
   "nbconvert_exporter": "python",
   "pygments_lexer": "ipython3",
   "version": "3.10.11"
  }
 },
 "nbformat": 4,
 "nbformat_minor": 5
}
