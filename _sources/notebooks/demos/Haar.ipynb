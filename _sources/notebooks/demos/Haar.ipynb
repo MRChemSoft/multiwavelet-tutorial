{
 "cells": [
  {
   "cell_type": "code",
   "execution_count": null,
   "id": "9708b620-3a86-4b1f-9c5d-ff792d400617",
   "metadata": {},
   "outputs": [],
   "source": [
    "import matplotlib.pyplot as plt\n",
    "from mpl_toolkits.mplot3d import Axes3D\n",
    "import numpy as np\n",
    "from matplotlib import cm\n",
    "\n",
    "def h(x):\n",
    "    val = 0;\n",
    "    if x >= 0 and x < 1:\n",
    "        val = 1\n",
    "    return val\n",
    "\n",
    "def w(x):\n",
    "    return h(2*x)-h(2*x-1)\n",
    "    \n",
    "def hnl(x,n,l):\n",
    "    factor = 2**n\n",
    "    return np.sqrt(factor) * vh(factor * x - l) \n",
    "\n",
    "def wnl(x,n,l):\n",
    "    factor = 2**n\n",
    "    return np.sqrt(factor) * vw(factor * x - l) \n",
    "\n",
    "def h2(x,y):\n",
    "    return h(x) * h(y)\n",
    "\n",
    "def w21(x,y):\n",
    "    return w(x) * h(y)\n",
    "\n",
    "def w22(x,y):\n",
    "    return h(x) * w(y)\n",
    "\n",
    "def w23(x,y):\n",
    "    return w(x) * w(y)\n",
    "\n",
    "\n",
    "\n",
    "vh = np.vectorize(h)\n",
    "vh2 = np.vectorize(h2)\n",
    "vw = np.vectorize(w)\n",
    "vw21 = np.vectorize(w21)\n",
    "vw22 = np.vectorize(w22)\n",
    "vw23 = np.vectorize(w23)"
   ]
  },
  {
   "cell_type": "code",
   "execution_count": null,
   "id": "7bca543f-35f2-4629-8f26-5ed43d7eaab0",
   "metadata": {},
   "outputs": [],
   "source": [
    "x = np.arange(-0.2, 1.21, 0.002)\n",
    "y = wnl(x,1,0)\n",
    "_ = plt.plot(x,y)"
   ]
  },
  {
   "cell_type": "code",
   "execution_count": null,
   "id": "30c80643-24b0-4887-97f2-79a15f1addd8",
   "metadata": {},
   "outputs": [],
   "source": [
    "fig = plt.figure(figsize=(10, 10))\n",
    "ax = plt.axes(projection='3d')\n",
    "X = np.arange(-0.5, 1.5, 0.002)\n",
    "Y = np.arange(-0.5, 1.5, 0.002)\n",
    "X, Y = np.meshgrid(X, Y)\n",
    "scale = 0\n",
    "lx = 0\n",
    "ly = 0\n",
    "Z = vh2(2**scale * X - lx, 2**scale * Y - ly)\n",
    "\n",
    "\n",
    "ax.plot_surface(X, Y, Z, rstride=8, cstride=8, alpha=0.3)\n",
    "cset = ax.contourf(X, Y, Z, zdir='x', offset=-1.6, cmap=cm.coolwarm)\n",
    "cset = ax.contourf(X, Y, Z, zdir='y', offset=2.6, cmap=cm.coolwarm)\n",
    "cset = ax.contourf(X, Y, Z, zdir='z', offset=0, cmap=cm.coolwarm)\n",
    "\n",
    "ax.set_xlabel('X')\n",
    "ax.set_xlim(-1.5, 2.5)\n",
    "ax.set_ylabel('Y')\n",
    "ax.set_ylim(-1.5, 2.5)\n",
    "ax.set_zlabel('Z')\n",
    "ax.set_zlim(-1.5, 1.5)\n",
    "\n",
    "plt.show()"
   ]
  },
  {
   "cell_type": "code",
   "execution_count": null,
   "id": "5af42854-fb0d-4fd6-a5ae-edb0d978aecf",
   "metadata": {},
   "outputs": [],
   "source": []
  }
 ],
 "metadata": {
  "kernelspec": {
   "display_name": "Python 3 (ipykernel)",
   "language": "python",
   "name": "python3"
  },
  "language_info": {
   "codemirror_mode": {
    "name": "ipython",
    "version": 3
   },
   "file_extension": ".py",
   "mimetype": "text/x-python",
   "name": "python",
   "nbconvert_exporter": "python",
   "pygments_lexer": "ipython3",
   "version": "3.8.11"
  }
 },
 "nbformat": 4,
 "nbformat_minor": 5
}
