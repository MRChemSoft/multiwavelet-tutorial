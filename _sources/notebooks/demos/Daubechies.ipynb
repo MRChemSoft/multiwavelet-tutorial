{
 "cells": [
  {
   "cell_type": "code",
   "execution_count": null,
   "id": "d43409ea-53e4-409e-9bf4-61223566ff7d",
   "metadata": {},
   "outputs": [],
   "source": [
    "import matplotlib.pyplot as plt\n",
    "import numpy as np\n",
    "\n",
    "h0 = (1 + np.sqrt(3))/(4*np.sqrt(2))\n",
    "h1 = (3 + np.sqrt(3))/(4*np.sqrt(2))\n",
    "h2 = (3 - np.sqrt(3))/(4*np.sqrt(2))\n",
    "h3 = (1 - np.sqrt(3))/(4*np.sqrt(2))\n",
    "\n",
    "h = [h0, h1, h2, h3]\n",
    "g = [h3, -h2, h1, -h0]\n",
    "\n",
    "def starting_guess(x):\n",
    "    return np.exp(-(x-0.5)**2)\n",
    "\n",
    "def scaling(filters,x,n):\n",
    "    result = 0\n",
    "    if n <= 0:\n",
    "        result = starting_guess(x)\n",
    "    else:\n",
    "        k = 0\n",
    "        for element in filters:\n",
    "            result += np.sqrt(2)*element * scaling(filters,2*x-k,n-1)\n",
    "            k += 1\n",
    "    return result\n",
    "\n",
    "def wavelet(h,g,x,n):\n",
    "    result = 0\n",
    "    k = 0\n",
    "    for coeff in g:\n",
    "            result += np.sqrt(2) * coeff * scaling(h,2*x-k,n-1)\n",
    "            k += 1\n",
    "    return result\n",
    "        \n",
    "x_array = np.arange(-0.1, 3., 0.002)\n",
    "w_array = wavelet(h,g,x_array,8)\n",
    "s_array = scaling(h,x_array,9)\n",
    "\n",
    "#\n",
    "plt.figure(figsize=(10,10))\n",
    "\n",
    "plt.plot(x_array, s_array)\n",
    "plt.plot(x_array, w_array)"
   ]
  },
  {
   "cell_type": "code",
   "execution_count": null,
   "id": "e10a546c-0657-4fb4-8684-92c0212da835",
   "metadata": {},
   "outputs": [],
   "source": []
  }
 ],
 "metadata": {
  "kernelspec": {
   "display_name": "Python 3 (ipykernel)",
   "language": "python",
   "name": "python3"
  },
  "language_info": {
   "codemirror_mode": {
    "name": "ipython",
    "version": 3
   },
   "file_extension": ".py",
   "mimetype": "text/x-python",
   "name": "python",
   "nbconvert_exporter": "python",
   "pygments_lexer": "ipython3",
   "version": "3.8.11"
  }
 },
 "nbformat": 4,
 "nbformat_minor": 5
}
